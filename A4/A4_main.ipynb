{
 "cells": [
  {
   "cell_type": "markdown",
   "metadata": {},
   "source": [
    "## Importing self written functions from another python-file\n",
    "In this main notebook several functions are tested that where created in individual python files. \n",
    "The mapFunctions-file has two functions concerning creating a basemap.\n",
    "The plotFunctions-file  consists of several functions in order to add all the point data to the map with individual color and icons depending on the sport-type.\n",
    "For further description have a look in the docstrings of each file."
   ]
  },
  {
   "cell_type": "code",
   "execution_count": 1,
   "metadata": {},
   "outputs": [],
   "source": [
    "import mapFunctions as mf\n",
    "import plotFunctions as pf\n",
    "import routingFunctions as rf\n",
    "import pandas as pd"
   ]
  },
  {
   "cell_type": "code",
   "execution_count": null,
   "metadata": {},
   "outputs": [],
   "source": [
    "test_data = {'name': ['Calisthenic Park Salzach', 'Calisthenic Park Alpenstraße', 'Beach Volleyball Donnenbergpark',\n",
    "                      'Table tennis Donnenbergpark', 'Beach Volleyball Volksgarten', 'Kleiner Barmstein'],\n",
    "             'coordinates': [[47.80405845892574, 13.037556651700381], [47.777922927461255, 13.064586591558372], \n",
    "                             [47.788193993458634, 13.043390741193457], [47.788262158184, 13.043052179790253],\n",
    "                             [47.79640310970255, 13.060316436052583], [47.68887536167374, 13.078379431299568]],\n",
    "             'sport_type': ['Calisthenics', 'Calisthenics', 'Beach-Volleyball', 'Table-Tennis', 'Beach-Volleyball', 'Climbing'],\n",
    "             'description': ['Nice training area with shadow in the afternoon', \n",
    "                             'Nice training area with sun all day long',\n",
    "                             'Nice beachvolleyball field close to Almkanal where you can jump in after your match',\n",
    "                             '2 Table-Tennis tables',\n",
    "                             '2 Beach-Volleyball fields perfect for tournaments',\n",
    "                             'Sport climbing area with routes between grade 6b and 8b']}\n",
    "test_data_df = pd.DataFrame(test_data)\n",
    "test_data_df"
   ]
  },
  {
   "cell_type": "code",
   "execution_count": null,
   "metadata": {},
   "outputs": [],
   "source": [
    "centerCoord = mf.getCenterCoordinates(test_data_df['coordinates'])\n",
    "centerCoord"
   ]
  },
  {
   "cell_type": "code",
   "execution_count": null,
   "metadata": {},
   "outputs": [],
   "source": [
    "mymap = mf.create_Map(centerCoord, zoom_start=11)\n",
    "mymap"
   ]
  },
  {
   "cell_type": "code",
   "execution_count": null,
   "metadata": {
    "scrolled": false
   },
   "outputs": [],
   "source": [
    "pf.add_all_points(mymap, test_data_df)"
   ]
  },
  {
   "cell_type": "code",
   "execution_count": 2,
   "metadata": {},
   "outputs": [
    {
     "name": "stdout",
     "output_type": "stream",
     "text": [
      "Please enter your starting coordinates here:\n",
      "Enter latitude: 34\n",
      "Enter longitude: 13\n",
      "Your starting coordinates: [34.0, 13.0]\n"
     ]
    }
   ],
   "source": [
    "start_coords = rf.starting_coord_by_user()"
   ]
  },
  {
   "cell_type": "code",
   "execution_count": null,
   "metadata": {},
   "outputs": [],
   "source": []
  }
 ],
 "metadata": {
  "kernelspec": {
   "display_name": "Python [conda env:env_Soft_dev_A4]",
   "language": "python",
   "name": "conda-env-env_Soft_dev_A4-py"
  },
  "language_info": {
   "codemirror_mode": {
    "name": "ipython",
    "version": 3
   },
   "file_extension": ".py",
   "mimetype": "text/x-python",
   "name": "python",
   "nbconvert_exporter": "python",
   "pygments_lexer": "ipython3",
   "version": "3.10.11"
  }
 },
 "nbformat": 4,
 "nbformat_minor": 4
}
